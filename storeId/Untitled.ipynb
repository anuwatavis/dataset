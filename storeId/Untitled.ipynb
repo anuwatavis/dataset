{
 "cells": [
  {
   "cell_type": "code",
   "execution_count": 79,
   "metadata": {},
   "outputs": [],
   "source": [
    "import pandas as pd"
   ]
  },
  {
   "cell_type": "code",
   "execution_count": 80,
   "metadata": {},
   "outputs": [
    {
     "data": {
      "text/html": [
       "<div>\n",
       "<style scoped>\n",
       "    .dataframe tbody tr th:only-of-type {\n",
       "        vertical-align: middle;\n",
       "    }\n",
       "\n",
       "    .dataframe tbody tr th {\n",
       "        vertical-align: top;\n",
       "    }\n",
       "\n",
       "    .dataframe thead th {\n",
       "        text-align: right;\n",
       "    }\n",
       "</style>\n",
       "<table border=\"1\" class=\"dataframe\">\n",
       "  <thead>\n",
       "    <tr style=\"text-align: right;\">\n",
       "      <th></th>\n",
       "      <th>itemId</th>\n",
       "      <th>sellerId</th>\n",
       "      <th>buyerId</th>\n",
       "      <th>itemTitle</th>\n",
       "      <th>reviewType</th>\n",
       "      <th>rating</th>\n",
       "      <th>reviewContent</th>\n",
       "      <th>isAnonymous</th>\n",
       "      <th>boughtDate</th>\n",
       "      <th>reviewTime</th>\n",
       "    </tr>\n",
       "  </thead>\n",
       "  <tbody>\n",
       "    <tr>\n",
       "      <th>0</th>\n",
       "      <td>1168684905</td>\n",
       "      <td>1.000358e+08</td>\n",
       "      <td>0.000000e+00</td>\n",
       "      <td>Dkinz มัลติฟังก์ชั่คริสตัลเหลวทอดอากาศ HIC-AF-...</td>\n",
       "      <td>PRODUCT_REVIEW</td>\n",
       "      <td>NaN</td>\n",
       "      <td>น่ากลัว .....\\nสร้างคุณภาพที่ดี .....</td>\n",
       "      <td>False</td>\n",
       "      <td>09 เม.ย. 2020</td>\n",
       "      <td>09 เม.ย. 2020</td>\n",
       "    </tr>\n",
       "    <tr>\n",
       "      <th>1</th>\n",
       "      <td>1168684905</td>\n",
       "      <td>1.000358e+08</td>\n",
       "      <td>0.000000e+00</td>\n",
       "      <td>Dkinz มัลติฟังก์ชั่คริสตัลเหลวทอดอากาศ HIC-AF-...</td>\n",
       "      <td>PRODUCT_REVIEW</td>\n",
       "      <td>NaN</td>\n",
       "      <td>ผลิตภัณฑ์นี้ได้รับการทดสอบสักครู่สามารถพิจารณา...</td>\n",
       "      <td>False</td>\n",
       "      <td>14 มิ.ย. 2020</td>\n",
       "      <td>14 มิ.ย. 2020</td>\n",
       "    </tr>\n",
       "    <tr>\n",
       "      <th>2</th>\n",
       "      <td>1168684905</td>\n",
       "      <td>1.000358e+08</td>\n",
       "      <td>0.000000e+00</td>\n",
       "      <td>Dkinz มัลติฟังก์ชั่คริสตัลเหลวทอดอากาศ HIC-AF-...</td>\n",
       "      <td>PRODUCT_REVIEW</td>\n",
       "      <td>NaN</td>\n",
       "      <td>บรรจุหีบห่อดี</td>\n",
       "      <td>False</td>\n",
       "      <td>10 พ.ค. 2020</td>\n",
       "      <td>10 พ.ค. 2020</td>\n",
       "    </tr>\n",
       "    <tr>\n",
       "      <th>3</th>\n",
       "      <td>938702275</td>\n",
       "      <td>1.000164e+09</td>\n",
       "      <td>1.259318e+06</td>\n",
       "      <td>LOCK&amp;LOCK หม้อทอดไร้น้ำมัน หม้อทอดอเนกประสงค์ ...</td>\n",
       "      <td>PRODUCT_REVIEW</td>\n",
       "      <td>5.0</td>\n",
       "      <td>NaN</td>\n",
       "      <td>False</td>\n",
       "      <td>05 พ.ค. 2020</td>\n",
       "      <td>15 พ.ค. 2020</td>\n",
       "    </tr>\n",
       "    <tr>\n",
       "      <th>4</th>\n",
       "      <td>259812394</td>\n",
       "      <td>1.000281e+08</td>\n",
       "      <td>1.000760e+11</td>\n",
       "      <td>Smart home หม้อทอดไร้น้ำมัน Air Fryer รุ่น MV-...</td>\n",
       "      <td>PRODUCT_REVIEW</td>\n",
       "      <td>5.0</td>\n",
       "      <td>ใช้ดีมากๆคะ</td>\n",
       "      <td>True</td>\n",
       "      <td>20 เม.ย. 2020</td>\n",
       "      <td>25 เม.ย. 2020</td>\n",
       "    </tr>\n",
       "  </tbody>\n",
       "</table>\n",
       "</div>"
      ],
      "text/plain": [
       "       itemId      sellerId       buyerId  \\\n",
       "0  1168684905  1.000358e+08  0.000000e+00   \n",
       "1  1168684905  1.000358e+08  0.000000e+00   \n",
       "2  1168684905  1.000358e+08  0.000000e+00   \n",
       "3   938702275  1.000164e+09  1.259318e+06   \n",
       "4   259812394  1.000281e+08  1.000760e+11   \n",
       "\n",
       "                                           itemTitle      reviewType  rating  \\\n",
       "0  Dkinz มัลติฟังก์ชั่คริสตัลเหลวทอดอากาศ HIC-AF-...  PRODUCT_REVIEW     NaN   \n",
       "1  Dkinz มัลติฟังก์ชั่คริสตัลเหลวทอดอากาศ HIC-AF-...  PRODUCT_REVIEW     NaN   \n",
       "2  Dkinz มัลติฟังก์ชั่คริสตัลเหลวทอดอากาศ HIC-AF-...  PRODUCT_REVIEW     NaN   \n",
       "3  LOCK&LOCK หม้อทอดไร้น้ำมัน หม้อทอดอเนกประสงค์ ...  PRODUCT_REVIEW     5.0   \n",
       "4  Smart home หม้อทอดไร้น้ำมัน Air Fryer รุ่น MV-...  PRODUCT_REVIEW     5.0   \n",
       "\n",
       "                                       reviewContent  isAnonymous  \\\n",
       "0              น่ากลัว .....\\nสร้างคุณภาพที่ดี .....        False   \n",
       "1  ผลิตภัณฑ์นี้ได้รับการทดสอบสักครู่สามารถพิจารณา...        False   \n",
       "2                                      บรรจุหีบห่อดี        False   \n",
       "3                                                NaN        False   \n",
       "4                                       ใช้ดีมากๆคะ          True   \n",
       "\n",
       "      boughtDate     reviewTime  \n",
       "0  09 เม.ย. 2020  09 เม.ย. 2020  \n",
       "1  14 มิ.ย. 2020  14 มิ.ย. 2020  \n",
       "2   10 พ.ค. 2020   10 พ.ค. 2020  \n",
       "3   05 พ.ค. 2020   15 พ.ค. 2020  \n",
       "4  20 เม.ย. 2020  25 เม.ย. 2020  "
      ]
     },
     "execution_count": 80,
     "metadata": {},
     "output_type": "execute_result"
    }
   ],
   "source": [
    "df = pd.read_csv('review_5.csv')\n",
    "df.head()"
   ]
  },
  {
   "cell_type": "code",
   "execution_count": 81,
   "metadata": {
    "scrolled": true
   },
   "outputs": [
    {
     "data": {
      "text/plain": [
       "0        1.000358e+08\n",
       "1        1.000358e+08\n",
       "2        1.000358e+08\n",
       "3        1.000164e+09\n",
       "4        1.000281e+08\n",
       "             ...     \n",
       "17959    6.960000e+03\n",
       "17960    6.960000e+03\n",
       "17961    6.960000e+03\n",
       "17962    6.960000e+03\n",
       "17963    6.960000e+03\n",
       "Name: sellerId, Length: 17964, dtype: float64"
      ]
     },
     "execution_count": 81,
     "metadata": {},
     "output_type": "execute_result"
    }
   ],
   "source": [
    "df['sellerId']"
   ]
  },
  {
   "cell_type": "code",
   "execution_count": 82,
   "metadata": {},
   "outputs": [
    {
     "data": {
      "text/plain": [
       "array([1.00035751e+08, 1.00016387e+09, 1.00028108e+08, 1.00195162e+08,\n",
       "       1.00183000e+11, 1.00182000e+11, 1.00024762e+09, 1.00180000e+11,\n",
       "       1.00026673e+09, 3.10270000e+04, 1.00114608e+08, 1.00152267e+08,\n",
       "       1.00014329e+09, 1.00012136e+09, 1.00032617e+09, 1.00014388e+09,\n",
       "       1.00179000e+11, 1.00052925e+09, 1.00181000e+11, 1.00003050e+09,\n",
       "       1.00184000e+11, 1.00000805e+09, 1.00016634e+09, 1.00037706e+09,\n",
       "       1.00159724e+08, 9.55700000e+03, 1.00034627e+08, 1.00039128e+08,\n",
       "       3.99600000e+03, 1.00008909e+08, 1.00039977e+09, 1.00004672e+09,\n",
       "       1.00020261e+09, 1.00024616e+09, 1.00185000e+11, 1.00030730e+09,\n",
       "       1.00000900e+09, 1.00012698e+09, 1.00031103e+09, 1.00045790e+09,\n",
       "       1.00037018e+09, 1.00046138e+09, 1.00047599e+09, 1.00052096e+09,\n",
       "       1.00145268e+08, 1.05100000e+03, 1.00003438e+08, 1.00003376e+08,\n",
       "       1.00010781e+09, 1.00018337e+09, 1.00015788e+09, 1.00029414e+09,\n",
       "       1.00054579e+09, 1.00088963e+08, 1.00052897e+08, 1.00015943e+09,\n",
       "       2.93000000e+02, 1.00030166e+08, 1.00190503e+08, 1.00151167e+08,\n",
       "       1.00021552e+09, 1.00026356e+09, 1.00019942e+09, 1.00029817e+09,\n",
       "       1.00158298e+08, 1.00025237e+09, 1.00017918e+09, 2.22550000e+04,\n",
       "       1.00003065e+09, 1.00015081e+09, 1.00007797e+09, 1.00029672e+09,\n",
       "       1.00029093e+09, 1.00038206e+09, 1.00146255e+08, 1.00188027e+08,\n",
       "       4.00000000e+03, 1.00014521e+09, 1.00003239e+09, 1.00004817e+09,\n",
       "       1.00041479e+09, 1.00058652e+08, 1.00117983e+08, 1.00010781e+09,\n",
       "       1.00000335e+09, 2.43950000e+04, 1.00016016e+09, 1.00013470e+08,\n",
       "       1.00019743e+09, 1.00029858e+09, 1.00004259e+09, 1.00016852e+09,\n",
       "       1.00027028e+09, 1.00006182e+09, 4.38700000e+03, 1.00005645e+09,\n",
       "       1.00213561e+08, 1.00015242e+09, 1.00006046e+09, 9.95000000e+02,\n",
       "       1.00037986e+09, 1.00214733e+08, 1.00000922e+09, 1.00076403e+08,\n",
       "       3.16380000e+04, 1.35300000e+03, 1.00111367e+08, 1.00004778e+09,\n",
       "       2.74000000e+04, 1.00053198e+09, 1.84060000e+04, 1.00036029e+08,\n",
       "       6.96000000e+03, 3.47510000e+04])"
      ]
     },
     "execution_count": 82,
     "metadata": {},
     "output_type": "execute_result"
    }
   ],
   "source": [
    "sellerId = df['sellerId'].unique()\n",
    "sellerId"
   ]
  },
  {
   "cell_type": "code",
   "execution_count": 83,
   "metadata": {},
   "outputs": [
    {
     "data": {
      "text/plain": [
       "numpy.ndarray"
      ]
     },
     "execution_count": 83,
     "metadata": {},
     "output_type": "execute_result"
    }
   ],
   "source": [
    "type(sellerId)"
   ]
  },
  {
   "cell_type": "code",
   "execution_count": 84,
   "metadata": {},
   "outputs": [],
   "source": [
    "pd.DataFrame(sellerId).to_csv(\"5.csv\")"
   ]
  },
  {
   "cell_type": "code",
   "execution_count": 86,
   "metadata": {},
   "outputs": [
    {
     "data": {
      "text/html": [
       "<div>\n",
       "<style scoped>\n",
       "    .dataframe tbody tr th:only-of-type {\n",
       "        vertical-align: middle;\n",
       "    }\n",
       "\n",
       "    .dataframe tbody tr th {\n",
       "        vertical-align: top;\n",
       "    }\n",
       "\n",
       "    .dataframe thead th {\n",
       "        text-align: right;\n",
       "    }\n",
       "</style>\n",
       "<table border=\"1\" class=\"dataframe\">\n",
       "  <thead>\n",
       "    <tr style=\"text-align: right;\">\n",
       "      <th></th>\n",
       "      <th>sellerId</th>\n",
       "    </tr>\n",
       "  </thead>\n",
       "  <tbody>\n",
       "    <tr>\n",
       "      <th>0</th>\n",
       "      <td>1.001790e+11</td>\n",
       "    </tr>\n",
       "    <tr>\n",
       "      <th>1</th>\n",
       "      <td>1.001810e+11</td>\n",
       "    </tr>\n",
       "    <tr>\n",
       "      <th>2</th>\n",
       "      <td>1.000451e+09</td>\n",
       "    </tr>\n",
       "    <tr>\n",
       "      <th>3</th>\n",
       "      <td>1.000462e+09</td>\n",
       "    </tr>\n",
       "    <tr>\n",
       "      <th>4</th>\n",
       "      <td>1.001820e+11</td>\n",
       "    </tr>\n",
       "    <tr>\n",
       "      <th>5</th>\n",
       "      <td>1.001850e+11</td>\n",
       "    </tr>\n",
       "    <tr>\n",
       "      <th>6</th>\n",
       "      <td>1.000458e+09</td>\n",
       "    </tr>\n",
       "    <tr>\n",
       "      <th>7</th>\n",
       "      <td>1.001830e+11</td>\n",
       "    </tr>\n",
       "    <tr>\n",
       "      <th>8</th>\n",
       "      <td>1.000476e+09</td>\n",
       "    </tr>\n",
       "    <tr>\n",
       "      <th>9</th>\n",
       "      <td>1.000890e+08</td>\n",
       "    </tr>\n",
       "  </tbody>\n",
       "</table>\n",
       "</div>"
      ],
      "text/plain": [
       "       sellerId\n",
       "0  1.001790e+11\n",
       "1  1.001810e+11\n",
       "2  1.000451e+09\n",
       "3  1.000462e+09\n",
       "4  1.001820e+11\n",
       "5  1.001850e+11\n",
       "6  1.000458e+09\n",
       "7  1.001830e+11\n",
       "8  1.000476e+09\n",
       "9  1.000890e+08"
      ]
     },
     "execution_count": 86,
     "metadata": {},
     "output_type": "execute_result"
    }
   ],
   "source": [
    "df = pd.read_csv('sellerId.csv')\n",
    "df.head(10)"
   ]
  },
  {
   "cell_type": "code",
   "execution_count": null,
   "metadata": {},
   "outputs": [],
   "source": [
    "import requests "
   ]
  }
 ],
 "metadata": {
  "kernelspec": {
   "display_name": "Python 3",
   "language": "python",
   "name": "python3"
  },
  "language_info": {
   "codemirror_mode": {
    "name": "ipython",
    "version": 3
   },
   "file_extension": ".py",
   "mimetype": "text/x-python",
   "name": "python",
   "nbconvert_exporter": "python",
   "pygments_lexer": "ipython3",
   "version": "3.7.6"
  }
 },
 "nbformat": 4,
 "nbformat_minor": 4
}
